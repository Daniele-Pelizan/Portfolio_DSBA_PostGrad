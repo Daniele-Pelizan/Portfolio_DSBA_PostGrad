{
 "cells": [
  {
   "cell_type": "markdown",
   "id": "6yDxo9u0d9Na",
   "metadata": {
    "id": "6yDxo9u0d9Na"
   },
   "source": [
    "# Project Business Statistics: E-news Express\n",
    "\n",
    "### Daniele Pelizan"
   ]
  },
  {
   "cell_type": "markdown",
   "id": "SrLd-ICEmPSD",
   "metadata": {
    "id": "SrLd-ICEmPSD"
   },
   "source": [
    "## Define Problem Statement and Objectives"
   ]
  },
  {
   "cell_type": "markdown",
   "id": "182367b6",
   "metadata": {},
   "source": [
    "### Problem Statement\n",
    "Background: \n",
    "An online news portal aims to expand its business by acquiring new subscribers. Every visitor to the website takes certain actions based on their interest. The company plans to analyze these interests and wants to determine whether a new feature will be effective or not. Companies often analyze users' responses to two variants of a product to decide which of the two variants is more effective. This experimental technique is known as a/b testing that is used to determine whether a new feature attracts users based on a chosen metric.\n",
    "\n",
    "Suppose you are hired as a Data Scientist in E-news Express. The design team of the company has created a new landing page. You have been assigned the task to decide whether the new landing page is more effective to gather new subscribers. Suppose you randomly selected 100 users and divided them equally into two groups. The old landing page is served to the first group (control group) and the new landing page is served to the second group (treatment group). Various data about the customers in both groups are collected in 'abtest.csv'. Perform the statistical analysis to answer the following questions using the collected data.\n"
   ]
  },
  {
   "cell_type": "markdown",
   "id": "d48f1cf1",
   "metadata": {},
   "source": [
    "### Objective:\n",
    "Statistical analysis of business data. Explore the dataset and extract insights from the data. The idea is for you to get comfortable with doing statistical analysis in Python.\n",
    "You are expected to perform the statistical analysis to answer the following questions:\n",
    "1.\tExplore the dataset and extract insights using Exploratory Data Analysis.\n",
    "2.\tDo the users spend more time on the new landing page than the old landing page?\n",
    "3.\tIs the conversion rate (the proportion of users who visit the landing page and get converted) for the new page greater than the conversion rate for the old page?\n",
    "4.\tDoes the converted status depend on the preferred language? [Hint: Create a contingency table using the pandas.crosstab() function]\n",
    "5.\tIs the mean time spent on the new page same for the different language users?\n",
    "*Consider a significance level of 0.05 for all tests.\n"
   ]
  },
  {
   "cell_type": "markdown",
   "id": "e8673c28",
   "metadata": {},
   "source": [
    "### Data Dictionary:\n",
    "1.\tuser_id - This represents the user ID of the person visiting the website.\n",
    "2.\tgroup - This represents whether the user belongs to the first group (control) or the second group (treatment).\n",
    "3.\tlanding_page - This represents whether the landing page is new or old.\n",
    "4.\ttime_spent_on_the_page - This represents the time (in minutes) spent by the user on the landing page.\n",
    "5.\tconverted - This represents whether the user gets converted to a subscriber of the news portal or not.\n",
    "6.  language_preferred - This represents the language chosen by the user to view the landing page.\n"
   ]
  },
  {
   "cell_type": "markdown",
   "id": "a6a3d218",
   "metadata": {
    "id": "a6a3d218"
   },
   "source": [
    "## Import all the necessary libraries"
   ]
  },
  {
   "cell_type": "code",
   "execution_count": 2,
   "id": "658c5dec",
   "metadata": {
    "id": "658c5dec"
   },
   "outputs": [],
   "source": [
    "import numpy as np\n",
    "import pandas as pd\n",
    "from matplotlib import pyplot as plt\n",
    "import seaborn as sns\n",
    "sns.set(color_codes=True)"
   ]
  },
  {
   "cell_type": "markdown",
   "id": "9d75cfa2",
   "metadata": {
    "id": "9d75cfa2"
   },
   "source": [
    "## 1. Explore the dataset and extract insights using Exploratory Data Analysis."
   ]
  },
  {
   "cell_type": "markdown",
   "id": "27201534",
   "metadata": {
    "id": "27201534"
   },
   "source": [
    "### Exploratory Data Analysis - Step by step approach\n",
    "\n",
    "Typical Data exploration activity consists of the following steps:\n",
    "1.\tImporting Data\n",
    "2.\tVariable Identification\n",
    "3.  Variable Transformation/Feature Creation\n",
    "4.  Missing value detection\n",
    "5.\tUnivariate Analysis\n",
    "6.\tBivariate Analysis"
   ]
  },
  {
   "cell_type": "markdown",
   "id": "6970dd99",
   "metadata": {
    "id": "6970dd99"
   },
   "source": [
    "### Reading the Data into a DataFrame"
   ]
  },
  {
   "cell_type": "code",
   "execution_count": 2,
   "id": "d3b95640",
   "metadata": {
    "id": "d3b95640"
   },
   "outputs": [],
   "source": [
    "# write the code for reading the dataset abtest.csv\n",
    "df = pd.read_csv('abtest.csv')\n"
   ]
  },
  {
   "cell_type": "markdown",
   "id": "a4e471fd",
   "metadata": {
    "id": "a4e471fd"
   },
   "source": [
    "### Data Overview\n",
    "- View a few rows of the data frame.\n",
    "- Check the shape and data types of the data frame. Add observations.\n",
    "- Fix the data-types (if needed).\n",
    "- Missing Value Check.\n",
    "- Summary statistics from the data frame. Add observations."
   ]
  },
  {
   "cell_type": "code",
   "execution_count": 3,
   "id": "e1ad11d4",
   "metadata": {
    "id": "e1ad11d4"
   },
   "outputs": [
    {
     "data": {
      "text/html": [
       "<div>\n",
       "<style scoped>\n",
       "    .dataframe tbody tr th:only-of-type {\n",
       "        vertical-align: middle;\n",
       "    }\n",
       "\n",
       "    .dataframe tbody tr th {\n",
       "        vertical-align: top;\n",
       "    }\n",
       "\n",
       "    .dataframe thead th {\n",
       "        text-align: right;\n",
       "    }\n",
       "</style>\n",
       "<table border=\"1\" class=\"dataframe\">\n",
       "  <thead>\n",
       "    <tr style=\"text-align: right;\">\n",
       "      <th></th>\n",
       "      <th>user_id</th>\n",
       "      <th>group</th>\n",
       "      <th>landing_page</th>\n",
       "      <th>time_spent_on_the_page</th>\n",
       "      <th>converted</th>\n",
       "      <th>language_preferred</th>\n",
       "    </tr>\n",
       "  </thead>\n",
       "  <tbody>\n",
       "    <tr>\n",
       "      <th>0</th>\n",
       "      <td>546592</td>\n",
       "      <td>control</td>\n",
       "      <td>old</td>\n",
       "      <td>3.48</td>\n",
       "      <td>no</td>\n",
       "      <td>Spanish</td>\n",
       "    </tr>\n",
       "    <tr>\n",
       "      <th>1</th>\n",
       "      <td>546468</td>\n",
       "      <td>treatment</td>\n",
       "      <td>new</td>\n",
       "      <td>7.13</td>\n",
       "      <td>yes</td>\n",
       "      <td>English</td>\n",
       "    </tr>\n",
       "    <tr>\n",
       "      <th>2</th>\n",
       "      <td>546462</td>\n",
       "      <td>treatment</td>\n",
       "      <td>new</td>\n",
       "      <td>4.40</td>\n",
       "      <td>no</td>\n",
       "      <td>Spanish</td>\n",
       "    </tr>\n",
       "    <tr>\n",
       "      <th>3</th>\n",
       "      <td>546567</td>\n",
       "      <td>control</td>\n",
       "      <td>old</td>\n",
       "      <td>3.02</td>\n",
       "      <td>no</td>\n",
       "      <td>French</td>\n",
       "    </tr>\n",
       "    <tr>\n",
       "      <th>4</th>\n",
       "      <td>546459</td>\n",
       "      <td>treatment</td>\n",
       "      <td>new</td>\n",
       "      <td>4.75</td>\n",
       "      <td>yes</td>\n",
       "      <td>Spanish</td>\n",
       "    </tr>\n",
       "  </tbody>\n",
       "</table>\n",
       "</div>"
      ],
      "text/plain": [
       "   user_id      group landing_page  time_spent_on_the_page converted  \\\n",
       "0   546592    control          old                    3.48        no   \n",
       "1   546468  treatment          new                    7.13       yes   \n",
       "2   546462  treatment          new                    4.40        no   \n",
       "3   546567    control          old                    3.02        no   \n",
       "4   546459  treatment          new                    4.75       yes   \n",
       "\n",
       "  language_preferred  \n",
       "0            Spanish  \n",
       "1            English  \n",
       "2            Spanish  \n",
       "3             French  \n",
       "4            Spanish  "
      ]
     },
     "execution_count": 3,
     "metadata": {},
     "output_type": "execute_result"
    }
   ],
   "source": [
    "# View the first 5 rows of the data frame\n",
    "df.head()"
   ]
  },
  {
   "cell_type": "code",
   "execution_count": 4,
   "id": "e1c40785",
   "metadata": {},
   "outputs": [
    {
     "data": {
      "text/plain": [
       "(100, 6)"
      ]
     },
     "execution_count": 4,
     "metadata": {},
     "output_type": "execute_result"
    }
   ],
   "source": [
    "# Checking the shape of the data frame\n",
    "df.shape"
   ]
  },
  {
   "cell_type": "markdown",
   "id": "3d689247",
   "metadata": {},
   "source": [
    "* The dataset contains 100 rows and 6 columns"
   ]
  },
  {
   "cell_type": "code",
   "execution_count": 5,
   "id": "30c28c73",
   "metadata": {},
   "outputs": [
    {
     "name": "stdout",
     "output_type": "stream",
     "text": [
      "<class 'pandas.core.frame.DataFrame'>\n",
      "RangeIndex: 100 entries, 0 to 99\n",
      "Data columns (total 6 columns):\n",
      " #   Column                  Non-Null Count  Dtype  \n",
      "---  ------                  --------------  -----  \n",
      " 0   user_id                 100 non-null    int64  \n",
      " 1   group                   100 non-null    object \n",
      " 2   landing_page            100 non-null    object \n",
      " 3   time_spent_on_the_page  100 non-null    float64\n",
      " 4   converted               100 non-null    object \n",
      " 5   language_preferred      100 non-null    object \n",
      "dtypes: float64(1), int64(1), object(4)\n",
      "memory usage: 4.8+ KB\n"
     ]
    }
   ],
   "source": [
    "# Checking the data type of the data frame\n",
    "df.info()"
   ]
  },
  {
   "cell_type": "markdown",
   "id": "d95dbf06",
   "metadata": {},
   "source": [
    "* The dataset has 2 numerical columns: user_id and time_spent_on_the_page.\n",
    "* The dataset has 4 categorical columns: group, landing_page, converted and language_preferred. They are object data type."
   ]
  },
  {
   "cell_type": "code",
   "execution_count": 6,
   "id": "100914a1",
   "metadata": {
    "scrolled": false
   },
   "outputs": [
    {
     "data": {
      "text/plain": [
       "user_id                   0\n",
       "group                     0\n",
       "landing_page              0\n",
       "time_spent_on_the_page    0\n",
       "converted                 0\n",
       "language_preferred        0\n",
       "dtype: int64"
      ]
     },
     "execution_count": 6,
     "metadata": {},
     "output_type": "execute_result"
    }
   ],
   "source": [
    "# Checking for missing values\n",
    "df.isnull().sum()"
   ]
  },
  {
   "cell_type": "markdown",
   "id": "994414d6",
   "metadata": {},
   "source": [
    "* There are no missing values in this dataset."
   ]
  },
  {
   "cell_type": "code",
   "execution_count": 7,
   "id": "25f4d092",
   "metadata": {},
   "outputs": [],
   "source": [
    "# Converting \"objects\" to \"category\" reduces the data space required to store the dataframe\n",
    "# writing the code to convert 'group', 'landing_page', 'converted' and 'language_preferred' into categorical data.\n",
    "df['group'] = df['group'].astype('category')\n",
    "df['landing_page'] = df['landing_page'].astype('category')\n",
    "df['converted'] = df['converted'].astype('category')\n",
    "df['language_preferred'] = df['language_preferred'].astype('category')"
   ]
  },
  {
   "cell_type": "code",
   "execution_count": 8,
   "id": "2fcfe251",
   "metadata": {},
   "outputs": [
    {
     "data": {
      "text/html": [
       "<div>\n",
       "<style scoped>\n",
       "    .dataframe tbody tr th:only-of-type {\n",
       "        vertical-align: middle;\n",
       "    }\n",
       "\n",
       "    .dataframe tbody tr th {\n",
       "        vertical-align: top;\n",
       "    }\n",
       "\n",
       "    .dataframe thead th {\n",
       "        text-align: right;\n",
       "    }\n",
       "</style>\n",
       "<table border=\"1\" class=\"dataframe\">\n",
       "  <thead>\n",
       "    <tr style=\"text-align: right;\">\n",
       "      <th></th>\n",
       "      <th>user_id</th>\n",
       "      <th>time_spent_on_the_page</th>\n",
       "    </tr>\n",
       "  </thead>\n",
       "  <tbody>\n",
       "    <tr>\n",
       "      <th>count</th>\n",
       "      <td>100.000000</td>\n",
       "      <td>100.000000</td>\n",
       "    </tr>\n",
       "    <tr>\n",
       "      <th>mean</th>\n",
       "      <td>546517.000000</td>\n",
       "      <td>5.377800</td>\n",
       "    </tr>\n",
       "    <tr>\n",
       "      <th>std</th>\n",
       "      <td>52.295779</td>\n",
       "      <td>2.378166</td>\n",
       "    </tr>\n",
       "    <tr>\n",
       "      <th>min</th>\n",
       "      <td>546443.000000</td>\n",
       "      <td>0.190000</td>\n",
       "    </tr>\n",
       "    <tr>\n",
       "      <th>25%</th>\n",
       "      <td>546467.750000</td>\n",
       "      <td>3.880000</td>\n",
       "    </tr>\n",
       "    <tr>\n",
       "      <th>50%</th>\n",
       "      <td>546492.500000</td>\n",
       "      <td>5.415000</td>\n",
       "    </tr>\n",
       "    <tr>\n",
       "      <th>75%</th>\n",
       "      <td>546567.250000</td>\n",
       "      <td>7.022500</td>\n",
       "    </tr>\n",
       "    <tr>\n",
       "      <th>max</th>\n",
       "      <td>546592.000000</td>\n",
       "      <td>10.710000</td>\n",
       "    </tr>\n",
       "  </tbody>\n",
       "</table>\n",
       "</div>"
      ],
      "text/plain": [
       "             user_id  time_spent_on_the_page\n",
       "count     100.000000              100.000000\n",
       "mean   546517.000000                5.377800\n",
       "std        52.295779                2.378166\n",
       "min    546443.000000                0.190000\n",
       "25%    546467.750000                3.880000\n",
       "50%    546492.500000                5.415000\n",
       "75%    546567.250000                7.022500\n",
       "max    546592.000000               10.710000"
      ]
     },
     "execution_count": 8,
     "metadata": {},
     "output_type": "execute_result"
    }
   ],
   "source": [
    "# Summary statistics from the data frame\n",
    "df.describe()"
   ]
  },
  {
   "cell_type": "markdown",
   "id": "d0e0917f",
   "metadata": {},
   "source": [
    "* The average time that the users spent on the page is 5.37 minutes."
   ]
  },
  {
   "cell_type": "code",
   "execution_count": 9,
   "id": "fd98dbbe",
   "metadata": {},
   "outputs": [
    {
     "data": {
      "text/html": [
       "<div>\n",
       "<style scoped>\n",
       "    .dataframe tbody tr th:only-of-type {\n",
       "        vertical-align: middle;\n",
       "    }\n",
       "\n",
       "    .dataframe tbody tr th {\n",
       "        vertical-align: top;\n",
       "    }\n",
       "\n",
       "    .dataframe thead th {\n",
       "        text-align: right;\n",
       "    }\n",
       "</style>\n",
       "<table border=\"1\" class=\"dataframe\">\n",
       "  <thead>\n",
       "    <tr style=\"text-align: right;\">\n",
       "      <th></th>\n",
       "      <th>count</th>\n",
       "      <th>unique</th>\n",
       "      <th>top</th>\n",
       "      <th>freq</th>\n",
       "    </tr>\n",
       "  </thead>\n",
       "  <tbody>\n",
       "    <tr>\n",
       "      <th>group</th>\n",
       "      <td>100</td>\n",
       "      <td>2</td>\n",
       "      <td>control</td>\n",
       "      <td>50</td>\n",
       "    </tr>\n",
       "    <tr>\n",
       "      <th>landing_page</th>\n",
       "      <td>100</td>\n",
       "      <td>2</td>\n",
       "      <td>new</td>\n",
       "      <td>50</td>\n",
       "    </tr>\n",
       "    <tr>\n",
       "      <th>converted</th>\n",
       "      <td>100</td>\n",
       "      <td>2</td>\n",
       "      <td>yes</td>\n",
       "      <td>54</td>\n",
       "    </tr>\n",
       "    <tr>\n",
       "      <th>language_preferred</th>\n",
       "      <td>100</td>\n",
       "      <td>3</td>\n",
       "      <td>French</td>\n",
       "      <td>34</td>\n",
       "    </tr>\n",
       "  </tbody>\n",
       "</table>\n",
       "</div>"
      ],
      "text/plain": [
       "                   count unique      top freq\n",
       "group                100      2  control   50\n",
       "landing_page         100      2      new   50\n",
       "converted            100      2      yes   54\n",
       "language_preferred   100      3   French   34"
      ]
     },
     "execution_count": 9,
     "metadata": {},
     "output_type": "execute_result"
    }
   ],
   "source": [
    "df.describe(exclude='number').T"
   ]
  },
  {
   "cell_type": "markdown",
   "id": "cefcdb22",
   "metadata": {},
   "source": [
    "* There are 2 groups, with 50 users each.\n",
    "* There are 2 landing pages, with 50 users each.\n",
    "* There are 3 languages. \n",
    "* There are 2 converted status."
   ]
  },
  {
   "cell_type": "markdown",
   "id": "68f3b2c9",
   "metadata": {
    "id": "68f3b2c9"
   },
   "source": [
    "### Univariate Analysis"
   ]
  },
  {
   "cell_type": "code",
   "execution_count": 10,
   "id": "1932d0f3",
   "metadata": {
    "id": "1932d0f3"
   },
   "outputs": [],
   "source": [
    "# function to plot a boxplot and a histogram along the same scale.\n",
    "\n",
    "\n",
    "def histogram_boxplot(data, feature, figsize=(12, 7), kde=False, bins=None):\n",
    "    \"\"\"\n",
    "    Boxplot and histogram combined\n",
    "\n",
    "    data: dataframe\n",
    "    feature: dataframe column\n",
    "    figsize: size of figure (default (12,7))\n",
    "    kde: whether to show the density curve (default False)\n",
    "    bins: number of bins for histogram (default None)\n",
    "    \"\"\"\n",
    "    f2, (ax_box2, ax_hist2) = plt.subplots(\n",
    "        nrows=2,  # Number of rows of the subplot grid= 2\n",
    "        sharex=True,  # x-axis will be shared among all subplots\n",
    "        gridspec_kw={\"height_ratios\": (0.25, 0.75)},\n",
    "        figsize=figsize,\n",
    "    )  # creating the 2 subplots\n",
    "    sns.boxplot(\n",
    "        data=data, x=feature, ax=ax_box2, showmeans=True, color=\"violet\"\n",
    "    )  # boxplot will be created and a star will indicate the mean value of the column\n",
    "    sns.histplot(\n",
    "        data=data, x=feature, kde=kde, ax=ax_hist2, bins=bins, palette=\"winter\"\n",
    "    ) if bins else sns.histplot(\n",
    "        data=data, x=feature, kde=kde, ax=ax_hist2\n",
    "    )  # For histogram\n",
    "    ax_hist2.axvline(\n",
    "        data[feature].mean(), color=\"green\", linestyle=\"--\"\n",
    "    )  # Add mean to the histogram\n",
    "    ax_hist2.axvline(\n",
    "        data[feature].median(), color=\"black\", linestyle=\"-\"\n",
    "    )  # Add median to the histogram"
   ]
  },
  {
   "cell_type": "code",
   "execution_count": 11,
   "id": "2fce6350",
   "metadata": {
    "id": "2fce6350"
   },
   "outputs": [],
   "source": [
    "# function to create labeled barplots\n",
    "\n",
    "\n",
    "def labeled_barplot(data, feature, perc=False, n=None):\n",
    "    \"\"\"\n",
    "    Barplot with percentage at the top\n",
    "\n",
    "    data: dataframe\n",
    "    feature: dataframe column\n",
    "    perc: whether to display percentages instead of count (default is False)\n",
    "    n: displays the top n category levels (default is None, i.e., display all levels)\n",
    "    \"\"\"\n",
    "\n",
    "    total = len(data[feature])  # length of the column\n",
    "    count = data[feature].nunique()\n",
    "    if n is None:\n",
    "        plt.figure(figsize=(count + 1, 5))\n",
    "    else:\n",
    "        plt.figure(figsize=(n + 1, 5))\n",
    "\n",
    "    plt.xticks(rotation=90, fontsize=15)\n",
    "    ax = sns.countplot(data=data, x=feature, palette=\"Paired\", order=data[feature].value_counts().index[:n].sort_values())\n",
    "\n",
    "    for p in ax.patches:\n",
    "        if perc == True:\n",
    "            label = \"{:.1f}%\".format(100 * p.get_height() / total)  # percentage of each class of the category\n",
    "        else:\n",
    "            label = p.get_height()  # count of each level of the category\n",
    "\n",
    "        x = p.get_x() + p.get_width() / 2  # width of the plot\n",
    "        y = p.get_height()      # height of the plot\n",
    "\n",
    "        ax.annotate(label, (x, y), ha=\"center\", va=\"center\", size=12, xytext=(0, 5), textcoords=\"offset points\")  # annotate the percentage\n",
    "\n",
    "    plt.show()  # show the plot"
   ]
  },
  {
   "cell_type": "markdown",
   "id": "d2f82729",
   "metadata": {},
   "source": [
    "#### User ID"
   ]
  },
  {
   "cell_type": "code",
   "execution_count": 12,
   "id": "b474ddb6",
   "metadata": {},
   "outputs": [
    {
     "data": {
      "text/plain": [
       "546560    1\n",
       "546473    1\n",
       "546483    1\n",
       "546482    1\n",
       "546481    1\n",
       "         ..\n",
       "546590    1\n",
       "546589    1\n",
       "546588    1\n",
       "546587    1\n",
       "546559    1\n",
       "Name: user_id, Length: 100, dtype: int64"
      ]
     },
     "execution_count": 12,
     "metadata": {},
     "output_type": "execute_result"
    }
   ],
   "source": [
    "# check the unique values\n",
    "df.user_id.value_counts()"
   ]
  },
  {
   "cell_type": "code",
   "execution_count": 13,
   "id": "35c0425e",
   "metadata": {},
   "outputs": [
    {
     "data": {
      "text/plain": [
       "(100,)"
      ]
     },
     "execution_count": 13,
     "metadata": {},
     "output_type": "execute_result"
    }
   ],
   "source": [
    "df.user_id.value_counts().shape"
   ]
  },
  {
   "cell_type": "markdown",
   "id": "84a2a424",
   "metadata": {},
   "source": [
    "* There are 100 users in our dataset, and they are unique. There is not the same user in the control and treatment group."
   ]
  },
  {
   "cell_type": "markdown",
   "id": "b32b9b75",
   "metadata": {},
   "source": [
    "#### Group"
   ]
  },
  {
   "cell_type": "code",
   "execution_count": 14,
   "id": "f2e254dc",
   "metadata": {},
   "outputs": [
    {
     "data": {
      "text/plain": [
       "control      50\n",
       "treatment    50\n",
       "Name: group, dtype: int64"
      ]
     },
     "execution_count": 14,
     "metadata": {},
     "output_type": "execute_result"
    }
   ],
   "source": [
    "# check the unique values\n",
    "df.group.value_counts()"
   ]
  },
  {
   "cell_type": "code",
   "execution_count": 15,
   "id": "7ca18209",
   "metadata": {},
   "outputs": [
    {
     "data": {
      "image/png": "[encoded data removed]",
      "text/plain": [
       "<Figure size 216x360 with 1 Axes>"
      ]
     },
     "metadata": {},
     "output_type": "display_data"
    }
   ],
   "source": [
    "# For categorical variables we want to study the number of observations in each category\n",
    "# We use the user defined function labeled_barplot() to plot a countplot\n",
    "labeled_barplot(df, 'group')"
   ]
  },
  {
   "cell_type": "markdown",
   "id": "31abc466",
   "metadata": {},
   "source": [
    "*  As mentioned in the problem statement, there are 2 groups, the control group and the treatment group. There are 50 users in each group."
   ]
  },
  {
   "cell_type": "markdown",
   "id": "fc035343",
   "metadata": {},
   "source": [
    "#### Landing page"
   ]
  },
  {
   "cell_type": "code",
   "execution_count": 16,
   "id": "88b209dc",
   "metadata": {},
   "outputs": [
    {
     "data": {
      "text/plain": [
       "new    50\n",
       "old    50\n",
       "Name: landing_page, dtype: int64"
      ]
     },
     "execution_count": 16,
     "metadata": {},
     "output_type": "execute_result"
    }
   ],
   "source": [
    "#check the unique values\n",
    "df.landing_page.value_counts()"
   ]
  },
  {
   "cell_type": "code",
   "execution_count": 17,
   "id": "1dbc7960",
   "metadata": {},
   "outputs": [
    {
     "data": {
      "image/png": "[encoded data removed]",
      "text/plain": [
       "<Figure size 216x360 with 1 Axes>"
      ]
     },
     "metadata": {},
     "output_type": "display_data"
    }
   ],
   "source": [
    "# For categorical variables we want to study the number of observations in each category\n",
    "# We use the user defined function labeled_barplot() to plot a countplot\n",
    "labeled_barplot(df, 'landing_page')"
   ]
  },
  {
   "cell_type": "markdown",
   "id": "58be1ed2",
   "metadata": {},
   "source": [
    "*  As mentioned in the problem statement, there are 2 landing pages, the new and the old. There are 50 users in each page. The old page is for the control group, the new page is for the treatment group."
   ]
  },
  {
   "cell_type": "markdown",
   "id": "f342948e",
   "metadata": {},
   "source": [
    "#### Converted"
   ]
  },
  {
   "cell_type": "code",
   "execution_count": 18,
   "id": "11cabe9a",
   "metadata": {},
   "outputs": [
    {
     "data": {
      "text/plain": [
       "yes    54\n",
       "no     46\n",
       "Name: converted, dtype: int64"
      ]
     },
     "execution_count": 18,
     "metadata": {},
     "output_type": "execute_result"
    }
   ],
   "source": [
    "# check the unique values\n",
    "df.converted.value_counts()"
   ]
  },
  {
   "cell_type": "code",
   "execution_count": 19,
   "id": "0df520b5",
   "metadata": {},
   "outputs": [
    {
     "data": {
      "image/png": "[encoded data removed]",
      "text/plain": [
       "<Figure size 216x360 with 1 Axes>"
      ]
     },
     "metadata": {},
     "output_type": "display_data"
    }
   ],
   "source": [
    "# For categorical variables we want to study the number of observations in each category\n",
    "# We use the user defined function labeled_barplot() to plot a countplot\n",
    "labeled_barplot(df, 'converted')"
   ]
  },
  {
   "cell_type": "markdown",
   "id": "2db2f9ad",
   "metadata": {},
   "source": [
    "* 54 users are converted to a subscriber of the news portal, 46 users are not converted to a subscriber of the news portal."
   ]
  },
  {
   "cell_type": "markdown",
   "id": "82fdddb9",
   "metadata": {},
   "source": [
    "#### Language Preferred"
   ]
  },
  {
   "cell_type": "code",
   "execution_count": 20,
   "id": "fdff04a4",
   "metadata": {},
   "outputs": [
    {
     "data": {
      "text/plain": [
       "French     34\n",
       "Spanish    34\n",
       "English    32\n",
       "Name: language_preferred, dtype: int64"
      ]
     },
     "execution_count": 20,
     "metadata": {},
     "output_type": "execute_result"
    }
   ],
   "source": [
    "# check the unique values\n",
    "df.language_preferred.value_counts()"
   ]
  },
  {
   "cell_type": "code",
   "execution_count": 21,
   "id": "7cb5bbbb",
   "metadata": {},
   "outputs": [
    {
     "data": {
      "image/png": "[encoded data removed]",
      "text/plain": [
       "<Figure size 288x360 with 1 Axes>"
      ]
     },
     "metadata": {},
     "output_type": "display_data"
    }
   ],
   "source": [
    "# For categorical variables we want to study the number of observations in each category\n",
    "# We use the user defined function labeled_barplot() to plot a countplot\n",
    "labeled_barplot(df, 'language_preferred')"
   ]
  },
  {
   "cell_type": "markdown",
   "id": "6af64473",
   "metadata": {},
   "source": [
    "* There are 3 languages, French, Spanish and English. French and Spanish are the preferred, but they are chosen by almost the same number of users as English."
   ]
  },
  {
   "cell_type": "markdown",
   "id": "0d61318d",
   "metadata": {},
   "source": [
    "#### Time spent on the page"
   ]
  },
  {
   "cell_type": "code",
   "execution_count": 22,
   "id": "e6f99481",
   "metadata": {
    "id": "e6f99481"
   },
   "outputs": [
    {
     "data": {
      "image/png": "[encoded data removed]",
      "text/plain": [
       "<Figure size 864x504 with 2 Axes>"
      ]
     },
     "metadata": {},
     "output_type": "display_data"
    }
   ],
   "source": [
    "histogram_boxplot(df, 'time_spent_on_the_page')"
   ]
  },
  {
   "cell_type": "markdown",
   "id": "615d6b5b",
   "metadata": {},
   "source": [
    "* The average time spend on the news page is similar to the median, and the time is almost equaly distributed in both sides of the average line.\n",
    "* A large quantity of users spend 4 to 7 minutes in the news page."
   ]
  },
  {
   "cell_type": "markdown",
   "id": "fad2de2f",
   "metadata": {
    "id": "fad2de2f"
   },
   "source": [
    "### Bivariate Analysis"
   ]
  },
  {
   "cell_type": "code",
   "execution_count": 23,
   "id": "04617cdf",
   "metadata": {},
   "outputs": [],
   "source": [
    "# Bivariate analysis for categorical variables: \n",
    "# we want to study the number of observations in each category in relationship to another categorical variable\n",
    "# For this purpose we are going to plot a bar graph using the countplot function\n",
    "# We are going to create a function that generates the plots\n",
    "# This function takes the categorical variable as the input\n",
    "# The bars will be labeled with the number of observations \n",
    "# For the argument perc=True the bar will be labeled with the percentage of observations \n",
    "# For the argument n= any integer number, the plot will have the n bars with the biggest number of obervations\n",
    "\n",
    "\n",
    "def labeled_countplot (data, feature, hue, perc=False, n=None):   \n",
    "          \n",
    "    \"\"\"\n",
    "    Barplot with percentage at the top\n",
    "\n",
    "    data: dataframe\n",
    "    feature: dataframe column\n",
    "    hue: dataframe column\n",
    "    perc: whether to display percentages instead of count (default is False)\n",
    "    n: displays the top n category levels (default is None, i.e., display all levels)\n",
    "    \"\"\"\n",
    "\n",
    "    total = len(data[feature])       # length of the column - number of rows in that column\n",
    "    \n",
    "    plt.figure(figsize=(7, 5))\n",
    "    \n",
    "    # Creating the bar plot with a variable ax assigned to our plot. Then latter we can make manipulatios in this plot.\n",
    "    ax = sns.countplot(data=data, x=feature, palette=\"Paired\", hue=hue, order=data[feature].value_counts().index[:n],\n",
    "                      hue_order=df[hue].value_counts().index[:n])\n",
    "\n",
    "    \n",
    "    # Iterating over the bars one-by-one using the patches function to count the number of bars\n",
    "    for p in ax.patches:   \n",
    "        if perc == True:\n",
    "            label = \"{:.1f}%\".format( 100 * p.get_height() / total )  # calculating the percentage of each class of the category\n",
    "        else:\n",
    "            label = p.get_height()  # count of each class of the category\n",
    "           \n",
    "        # Get the x coordinate of the text by getting the width of the bar in which we are going to put our label   \n",
    "        x = p.get_x() + p.get_width() / 2  \n",
    "                \n",
    "        # Get the y coordinate of the text by getting the height of the bar\n",
    "        y = p.get_height() \n",
    "                \n",
    "        # Writing our label in the x,y coordinates over the bar, \n",
    "        # and leave some space between the label and the boundary of the bar (xytext)\n",
    "        ax.annotate(label, (x, y), ha=\"center\", va=\"center\", size=12, xytext=(0, 5), textcoords=\"offset points\")  \n",
    "        \n",
    "    # Add a legend and position it outside the plot\n",
    "    ax.legend(bbox_to_anchor=(1.2,1))        \n",
    "\n",
    "    plt.show()  # Show the plot"
   ]
  },
  {
   "cell_type": "markdown",
   "id": "445d8fcc",
   "metadata": {
    "id": "58e9a1d0"
   },
   "source": [
    "#### Landing page and Time spent on the page"
   ]
  },
  {
   "cell_type": "code",
   "execution_count": 24,
   "id": "cf347fad",
   "metadata": {},
   "outputs": [
    {
     "data": {
      "image/png": "[encoded data removed]",
      "text/plain": [
       "<Figure size 504x360 with 1 Axes>"
      ]
     },
     "metadata": {},
     "output_type": "display_data"
    }
   ],
   "source": [
    "# There are 2 landing pages. Let's plot a boxplot to see how long the users stayed in each page.\n",
    "\n",
    "plt.figure(figsize=(7, 5))\n",
    "\n",
    "sns.boxplot(data=df, x='time_spent_on_the_page', y='landing_page', \n",
    "            order=df.groupby('landing_page').time_spent_on_the_page.mean().sort_values(ascending=False).index, showmeans=True )\n",
    "\n",
    "plt.show()"
   ]
  },
  {
   "cell_type": "markdown",
   "id": "83c2e911",
   "metadata": {},
   "source": [
    "* The distribution of time spent on the page differs among the new and the old landing page.\n",
    "* The users, in average, stay more time in the new page, around 6 minutes.\n",
    "* The users stay in average around 4 minutes in the old page.\n",
    "* The average of time spent on the page is almost the same value as the median, for both old and new page."
   ]
  },
  {
   "cell_type": "markdown",
   "id": "b2dadbaf",
   "metadata": {},
   "source": [
    "#### Landing page and Converted user"
   ]
  },
  {
   "cell_type": "code",
   "execution_count": 25,
   "id": "b7320173",
   "metadata": {},
   "outputs": [
    {
     "data": {
      "image/png": "[encoded data removed]",
      "text/plain": [
       "<Figure size 504x360 with 1 Axes>"
      ]
     },
     "metadata": {},
     "output_type": "display_data"
    }
   ],
   "source": [
    "# Let's check the relationship between the landing page and converted ploting a countplot\n",
    "# Let's use the user define function labeled_countplot (data, feature, hue, perc=False, n=None)\n",
    "  \n",
    "labeled_countplot (df, 'converted', 'landing_page', perc=True)"
   ]
  },
  {
   "cell_type": "markdown",
   "id": "ab647294",
   "metadata": {},
   "source": [
    "* Of all the users in our dataset, 33% are converted to a subscriber in the new page and 21% are converted to a subscriber in the old page.\n",
    "* The number of users in the new page that are converted to a subscriber is much bigger than the users converted to a subscriber in the old page."
   ]
  },
  {
   "cell_type": "markdown",
   "id": "85e23826",
   "metadata": {},
   "source": [
    "#### New page and converted user"
   ]
  },
  {
   "cell_type": "code",
   "execution_count": 26,
   "id": "cc21345a",
   "metadata": {},
   "outputs": [
    {
     "data": {
      "image/png": "[encoded data removed]",
      "text/plain": [
       "<Figure size 216x360 with 1 Axes>"
      ]
     },
     "metadata": {},
     "output_type": "display_data"
    }
   ],
   "source": [
    "# Let's check the relationship between the new landing page and converted ploting a countplot\n",
    "# Let's use the user define function labeled_barplot (data, feature, perc=False, n=None)\n",
    "# We use only the data relative to the new page in the dataset\n",
    "  \n",
    "labeled_barplot (df[df.landing_page == 'new'], 'converted', perc=True)"
   ]
  },
  {
   "cell_type": "markdown",
   "id": "536f3052",
   "metadata": {},
   "source": [
    "* 66% of the users in the new page are converted to a subscriber."
   ]
  },
  {
   "cell_type": "markdown",
   "id": "98fe4b23",
   "metadata": {},
   "source": [
    "#### Old page and converted user"
   ]
  },
  {
   "cell_type": "code",
   "execution_count": 27,
   "id": "0c08735e",
   "metadata": {},
   "outputs": [
    {
     "data": {
      "image/png": "[encoded data removed]",
      "text/plain": [
       "<Figure size 216x360 with 1 Axes>"
      ]
     },
     "metadata": {},
     "output_type": "display_data"
    }
   ],
   "source": [
    "# Let's check the relationship between the new landing page and converted ploting a countplot\n",
    "# Let's use the user define function labeled_barplot (data, feature, perc=False, n=None)\n",
    "# We use only the data relative to the old page in the dataset\n",
    "  \n",
    "labeled_barplot (df[df.landing_page == 'old'], 'converted', perc=True)"
   ]
  },
  {
   "cell_type": "markdown",
   "id": "ecbe1fec",
   "metadata": {},
   "source": [
    "* 42% of the users in the old page are converted to a subscriber."
   ]
  },
  {
   "cell_type": "markdown",
   "id": "5cc29bad",
   "metadata": {},
   "source": [
    "#### Landing page and Language preferred"
   ]
  },
  {
   "cell_type": "code",
   "execution_count": 28,
   "id": "bfc88fe3",
   "metadata": {},
   "outputs": [
    {
     "data": {
      "image/png": "[encoded data removed]",
      "text/plain": [
       "<Figure size 504x360 with 1 Axes>"
      ]
     },
     "metadata": {},
     "output_type": "display_data"
    }
   ],
   "source": [
    "# Let's check the relationship between the landing page and preferred language ploting a countplot\n",
    "# Let's use the user define function labeled_countplot(data, feature, hue, perc=False, n=None)\n",
    "  \n",
    "labeled_countplot (df, 'language_preferred', 'landing_page')"
   ]
  },
  {
   "cell_type": "markdown",
   "id": "bb916f41",
   "metadata": {},
   "source": [
    "* The language is evenly distributed in the old and new page."
   ]
  },
  {
   "cell_type": "markdown",
   "id": "8f819f34",
   "metadata": {},
   "source": [
    "#### Converted user and time spent on the page"
   ]
  },
  {
   "cell_type": "code",
   "execution_count": 29,
   "id": "86b61e59",
   "metadata": {},
   "outputs": [
    {
     "data": {
      "image/png": "[encoded data removed]",
      "text/plain": [
       "<Figure size 504x360 with 1 Axes>"
      ]
     },
     "metadata": {},
     "output_type": "display_data"
    }
   ],
   "source": [
    "# Let's plot a boxplot to see how long the converted and not converted users stayed in the news portal.\n",
    "\n",
    "plt.figure(figsize=(7, 5))\n",
    "\n",
    "sns.boxplot(data=df, x='time_spent_on_the_page', y='converted', \n",
    "            order=df.groupby('converted').time_spent_on_the_page.mean().sort_values(ascending=False).index, showmeans=True )\n",
    "\n",
    "plt.show()"
   ]
  },
  {
   "cell_type": "markdown",
   "id": "80eddd71",
   "metadata": {},
   "source": [
    "* The converted users spend more time in the news page than the not converted.\n",
    "* The converted users spend in average 6,5 minutes in the news page. The not converted spend 4 minutes."
   ]
  },
  {
   "cell_type": "markdown",
   "id": "141893d3",
   "metadata": {},
   "source": [
    "#### Converted user and Language preferred"
   ]
  },
  {
   "cell_type": "code",
   "execution_count": 30,
   "id": "50a09158",
   "metadata": {},
   "outputs": [
    {
     "data": {
      "image/png": "[encoded data removed]",
      "text/plain": [
       "<Figure size 504x360 with 1 Axes>"
      ]
     },
     "metadata": {},
     "output_type": "display_data"
    }
   ],
   "source": [
    "# Let's check the relationship between the converted user and preferred language ploting a countplot\n",
    "# Let's use the user define function labeled_countplot(data, feature, hue, perc=False, n=None)\n",
    "  \n",
    "labeled_countplot (df, 'language_preferred', 'converted', perc=True)"
   ]
  },
  {
   "cell_type": "markdown",
   "id": "428eefb6",
   "metadata": {},
   "source": [
    "* The English users are the ones that converted to a subscriber the most, followed by the Spanish and French.\n",
    "* Almost half of the Spanish users are converted and half are not converted.\n",
    "* The number of French users not converted is bigger than the French users converted."
   ]
  },
  {
   "cell_type": "markdown",
   "id": "4bcee118",
   "metadata": {},
   "source": [
    "#### Language preferred  and time spent on the page"
   ]
  },
  {
   "cell_type": "code",
   "execution_count": 31,
   "id": "30bbd90b",
   "metadata": {},
   "outputs": [
    {
     "data": {
      "image/png": "[encoded data removed]",
      "text/plain": [
       "<Figure size 648x504 with 1 Axes>"
      ]
     },
     "metadata": {},
     "output_type": "display_data"
    }
   ],
   "source": [
    "# Let's check the relationship between the language preferred and time spent on the page\n",
    "# We plot a boxplot\n",
    "\n",
    "plt.figure(figsize=(9, 7))\n",
    "\n",
    "sns.boxplot(data=df, x='time_spent_on_the_page', y='language_preferred', showmeans=True, \n",
    "             order=df.groupby('language_preferred').time_spent_on_the_page.mean().sort_values(ascending=False).index)\n",
    "\n",
    "plt.show()"
   ]
  },
  {
   "cell_type": "markdown",
   "id": "8eeb8309",
   "metadata": {},
   "source": [
    "* The mean time spent on the page is very similar for all the languages."
   ]
  },
  {
   "cell_type": "markdown",
   "id": "91f89aaf",
   "metadata": {},
   "source": [
    "### Multivariate Analysis"
   ]
  },
  {
   "cell_type": "markdown",
   "id": "d154c349",
   "metadata": {},
   "source": [
    "#### Converted user and time spent on the page for each landing page"
   ]
  },
  {
   "cell_type": "code",
   "execution_count": 32,
   "id": "a93eaf44",
   "metadata": {},
   "outputs": [
    {
     "data": {
      "image/png": "[encoded data removed]",
      "text/plain": [
       "<Figure size 648x504 with 1 Axes>"
      ]
     },
     "metadata": {},
     "output_type": "display_data"
    }
   ],
   "source": [
    "# There are 2 landing pages. Let's plot a boxplot to see how long the users stayed in each page.\n",
    "\n",
    "plt.figure(figsize=(9, 7))\n",
    "\n",
    "sns.boxplot(data=df, x='time_spent_on_the_page', y='landing_page', hue='converted',\n",
    "            order=df.groupby('landing_page').time_spent_on_the_page.mean().sort_values(ascending=False).index, showmeans=True )\n",
    "\n",
    "plt.show()"
   ]
  },
  {
   "cell_type": "markdown",
   "id": "6bebe965",
   "metadata": {},
   "source": [
    "* The users that are converted to subscriber spend more time in both old and new page compared to the users that are not converted.\n",
    "* The users that are converted spend in average about 6 minutes in the old page and 7 minutes in the new page. \n",
    "* The users that are not converted to a subscriber spend more time in the new page than in the old page. The not converted users spend in average 5 minutes in the new page and 3.5 minutes in the old page.\n",
    "* In general, the users spend more time in the new page."
   ]
  },
  {
   "cell_type": "markdown",
   "id": "11f15c67",
   "metadata": {},
   "source": [
    "#### Converted user and Language preferred in the new page"
   ]
  },
  {
   "cell_type": "code",
   "execution_count": 33,
   "id": "0b9bb6fc",
   "metadata": {},
   "outputs": [
    {
     "data": {
      "image/png": "[encoded data removed]",
      "text/plain": [
       "<Figure size 504x360 with 1 Axes>"
      ]
     },
     "metadata": {},
     "output_type": "display_data"
    }
   ],
   "source": [
    "# Let's check the relationship between the converted user, language preferred and the new landing page\n",
    "# We use the defined function labeled_countplot to plot a countplot\n",
    "# We use only the data relative to the new page in the dataset\n",
    "\n",
    "labeled_countplot (df[df.landing_page == 'new'], 'language_preferred', 'converted', perc=True)"
   ]
  },
  {
   "cell_type": "markdown",
   "id": "5bc2d301",
   "metadata": {},
   "source": [
    "* In the new page there are more users converted than not converted, for the three languages.\n",
    "* In the new page the rate of conversion is almost the same for the three languages.\n",
    "* In the new page the French users are the ones that converted to a subscriber the most, followed by the Spanish and English.\n",
    "* In the new page the number of users converted are almost twice the number ousers not converted, for the three languages.\n",
    "* It seems that all the languages like the new page."
   ]
  },
  {
   "cell_type": "markdown",
   "id": "876377bc",
   "metadata": {},
   "source": [
    "#### Converted user and Language preferred in the old page"
   ]
  },
  {
   "cell_type": "code",
   "execution_count": 34,
   "id": "18ba5d21",
   "metadata": {},
   "outputs": [
    {
     "data": {
      "image/png": "[encoded data removed]",
      "text/plain": [
       "<Figure size 504x360 with 1 Axes>"
      ]
     },
     "metadata": {},
     "output_type": "display_data"
    }
   ],
   "source": [
    "# Let's check the relationship between the converted user, language preferred and the old landing page\n",
    "# We use the user defined function labeled_countplot() to plot a countplot\n",
    "# We use only the data relative to the old page in the dataset\n",
    "\n",
    "labeled_countplot (df[df.landing_page == 'old'], 'language_preferred', 'converted', perc=True)"
   ]
  },
  {
   "cell_type": "markdown",
   "id": "4e1c2e5e",
   "metadata": {},
   "source": [
    "* In the old page the number of English users converted is bigger and more than twice than the number of English users not converted.\n",
    "* In the old page the number of Spanish users converted is less than the number of Spanish users not converted, but the difference is not so big. It seems that some of the Spanish users don't like the old page.\n",
    "* In the old page the number of French users converted is much smaller than the number of French users not converted. It seems that the majority of French users don't like the old page.\n",
    "\n",
    "\n",
    "Comparing the new and old page:\n",
    "* The percentage of English users converted is similar for the new and the old page, 20% and 22% respectively. It seems the English users like the new page as much as the old page.\n",
    "* The percentage of Spanish users converted is bigger in the new page than the old page, 22% and 14% respectively.\n",
    "* The percentage of French users converted is much bigger in the new page than the old page, 24% and 6% respectively. \n"
   ]
  },
  {
   "cell_type": "markdown",
   "id": "2bbb66a5",
   "metadata": {},
   "source": [
    "#### Language preferred, time spent on the page and landing page"
   ]
  },
  {
   "cell_type": "code",
   "execution_count": 35,
   "id": "7bf8fb9f",
   "metadata": {},
   "outputs": [
    {
     "data": {
      "image/png": "[encoded data removed]",
      "text/plain": [
       "<Figure size 648x504 with 1 Axes>"
      ]
     },
     "metadata": {},
     "output_type": "display_data"
    }
   ],
   "source": [
    "# Let's check the relationship between the language preferred, time spent on the page and landing page\n",
    "# We plot a boxplot\n",
    "\n",
    "plt.figure(figsize=(9, 7))\n",
    "\n",
    "sns.boxplot(data=df, x='time_spent_on_the_page', y='language_preferred', hue='landing_page', showmeans=True,\n",
    "            order=df.groupby('language_preferred').time_spent_on_the_page.mean().sort_values(ascending=False).index)\n",
    "\n",
    "plt.show()"
   ]
  },
  {
   "cell_type": "markdown",
   "id": "eedaa467",
   "metadata": {},
   "source": [
    "* All the languages spent more time in the new page than in the old page.\n",
    "* The average time spent in the new page is not so differente for all the languages, between 6 and 7 minutes.\n",
    "* The average time spent in the old page is not so differente for all the languages, around 4,5 minutes.\n",
    "* In the new page all the languages have a narrow distribution compared to the old page. \n",
    "* In average the American users spent more time in the new page.\n",
    "* In the old page the French language have a wider distribution and the French users spent in average less time in the old page."
   ]
  },
  {
   "cell_type": "markdown",
   "id": "773fad55",
   "metadata": {},
   "source": [
    "#### Language preferred, time spent on the page and converted status"
   ]
  },
  {
   "cell_type": "code",
   "execution_count": 36,
   "id": "ed21a758",
   "metadata": {},
   "outputs": [
    {
     "data": {
      "image/png": "[encoded data removed]",
      "text/plain": [
       "<Figure size 648x504 with 1 Axes>"
      ]
     },
     "metadata": {},
     "output_type": "display_data"
    }
   ],
   "source": [
    "# Let's check the relationship between the language preferred, time spent on the page and converted status\n",
    "# We plot a boxplot\n",
    "\n",
    "plt.figure(figsize=(9, 7))\n",
    "\n",
    "sns.boxplot(data=df, x='time_spent_on_the_page', y='language_preferred', hue='converted', showmeans = True,\n",
    "            order=df.groupby('language_preferred').time_spent_on_the_page.mean().sort_values(ascending=False).index)\n",
    "\n",
    "plt.show()"
   ]
  },
  {
   "cell_type": "markdown",
   "id": "84ea088a",
   "metadata": {},
   "source": [
    "* The users that are converted for all the languanges spent more time in the page than the users not converted.\n",
    "* The average time spent on the page for the converted users is almost the same for all the languages, around 6,5 and 7 minutes.\n",
    "* The average time spent on the page for the not converted users is almost the same for all the languages, around 4 minutes."
   ]
  },
  {
   "cell_type": "markdown",
   "id": "27906576",
   "metadata": {
    "id": "27906576"
   },
   "source": [
    "## 2. Do the users spend more time on the new landing page than the existing landing page?"
   ]
  },
  {
   "cell_type": "markdown",
   "id": "e5fdf0c8",
   "metadata": {
    "id": "e5fdf0c8"
   },
   "source": [
    "### Perform Visual Analysis"
   ]
  },
  {
   "cell_type": "code",
   "execution_count": 37,
   "id": "6eZJa41eg21n",
   "metadata": {
    "id": "6eZJa41eg21n",
    "scrolled": true
   },
   "outputs": [
    {
     "data": {
      "image/png": "[encoded data removed]",
      "text/plain": [
       "<Figure size 504x360 with 1 Axes>"
      ]
     },
     "metadata": {},
     "output_type": "display_data"
    }
   ],
   "source": [
    "# Let's plot a boxplot to check the time spent in each landing page\n",
    "plt.figure(figsize=(7, 5))\n",
    "\n",
    "sns.boxplot(data=df, x='time_spent_on_the_page', y='landing_page', \n",
    "            order=df.groupby('landing_page').time_spent_on_the_page.mean().sort_values(ascending=False).index, showmeans=True )\n",
    "\n",
    "plt.show()"
   ]
  },
  {
   "cell_type": "markdown",
   "id": "5b0e60d1",
   "metadata": {},
   "source": [
    "* The distribution of time spent on the page differs among the new and the old landing page.\n",
    "* The users, in average, stay more time in the new page. \n"
   ]
  },
  {
   "cell_type": "markdown",
   "id": "56b3dafd",
   "metadata": {
    "id": "56b3dafd"
   },
   "source": [
    "### Step 1: Define the null and alternate hypotheses"
   ]
  },
  {
   "cell_type": "markdown",
   "id": "d2ac77ef",
   "metadata": {
    "id": "d2ac77ef"
   },
   "source": [
    "We will test the null hypothesis\n",
    "\n",
    ">$H_0:$ The mean time spent in the new page is equal to the mean time spent in the old page.\n",
    "\n",
    "Against the alternate hypothesis\n",
    "\n",
    "> $H_a:$ The mean time spent in the new page is greater than the mean time spent in the old page.\n",
    "\n",
    "Let $\\mu_1$ and $\\mu_2$ be the mean time spent in the new landing page and the old landing page respectively.\n",
    "\n",
    "Mathematically, the above formulated hypotheses can be written as:\n",
    "\n",
    "> $H_0: \\mu_1 = \\mu_2 $\n",
    "\n",
    "> $H_a: \\mu_1 > \\mu_2 $"
   ]
  },
  {
   "cell_type": "markdown",
   "id": "c7ee4907",
   "metadata": {
    "id": "c7ee4907"
   },
   "source": [
    "### Step 2: Select Appropriate test"
   ]
  },
  {
   "cell_type": "markdown",
   "id": "2c183cd7",
   "metadata": {
    "id": "2c183cd7"
   },
   "source": [
    "This is a one-tailed two sample mean test. \n",
    "\n",
    "It's a random sampling from the population as it was informed in the problem statement. \n",
    "\n",
    "As we are taking random samples from two differente groups, the two samples are from two independent populations.\n",
    "\n",
    "The population standard deviations are unknown.\n",
    "\n",
    "A two independent sample t-test for equality of means will be appropriate for this problem.\n",
    "\n",
    "To use the t-test the populations need to follow the normal distribution. We don't know if the populations follow the normal distribution. We will use the Shapiro-Wilk's test of normality.\n",
    "\n",
    "We don't know if the population standard deviations are equal or unequal. We will calculate the sample standard deviations to assume if the population standard deviations are equal or unequal.\n"
   ]
  },
  {
   "cell_type": "markdown",
   "id": "b486e79d",
   "metadata": {},
   "source": [
    "#### Checking if the populations are normally distributed"
   ]
  },
  {
   "cell_type": "markdown",
   "id": "ded25cdd",
   "metadata": {},
   "source": [
    "#### Shapiro-Wilk’s test\n",
    "\n",
    "We will test the null hypothesis\n",
    "\n",
    ">$H_0:$ Time spent on the page follows a normal distribution\n",
    "\n",
    "against the alternative hypothesis\n",
    "\n",
    ">$H_a:$ Time spent on the page does not follow a normal distribution"
   ]
  },
  {
   "cell_type": "code",
   "execution_count": 38,
   "id": "0460ba4e",
   "metadata": {},
   "outputs": [
    {
     "name": "stdout",
     "output_type": "stream",
     "text": [
      "The p-value is 0.5643684267997742\n"
     ]
    }
   ],
   "source": [
    "# import the required function\n",
    "from scipy.stats import shapiro\n",
    "\n",
    "# find the p-value\n",
    "w, p_value = shapiro(df['time_spent_on_the_page']) \n",
    "print('The p-value is', p_value)"
   ]
  },
  {
   "cell_type": "markdown",
   "id": "a264ea10",
   "metadata": {},
   "source": [
    "Since the p-value is greater than the significance level (0.564 > 0.05) we fail to reject the null hypotesis. The populations follow the normal distribution."
   ]
  },
  {
   "cell_type": "markdown",
   "id": "0d976fbd",
   "metadata": {},
   "source": [
    "#### Checking if the population standard deviations are equal or unequal"
   ]
  },
  {
   "cell_type": "code",
   "execution_count": 39,
   "id": "c778805e",
   "metadata": {},
   "outputs": [
    {
     "name": "stdout",
     "output_type": "stream",
     "text": [
      "The standard deviation of time spent in the new page is 1.82\n",
      "The standard deviation of time spent in the old page is 2.58\n",
      "The ratio of the two samples standard deviation is 0.7037\n"
     ]
    }
   ],
   "source": [
    "print('The standard deviation of time spent in the new page is', \n",
    "      round(df[df['landing_page'] == 'new'].time_spent_on_the_page.std(), 2))\n",
    "print('The standard deviation of time spent in the old page is', \n",
    "      round(df[df['landing_page'] == 'old'].time_spent_on_the_page.std(), 2))\n",
    "print('The ratio of the two samples standard deviation is',\n",
    "      round((df[df['landing_page'] == 'new'].time_spent_on_the_page.std()/\n",
    "      df[df['landing_page'] == 'old'].time_spent_on_the_page.std()), 4) )"
   ]
  },
  {
   "cell_type": "markdown",
   "id": "46a4274d",
   "metadata": {},
   "source": [
    "If the ratio of two sample standard deviations is between 0.7 ans 1.4, the population standard deviations may be assumed to be equal.\n",
    "\n",
    "In our case, the ratio is 0.7037 which is too close to the low limit. Let's use the Levene's test for equality of variance to reach a conclusion."
   ]
  },
  {
   "cell_type": "markdown",
   "id": "921b67e5",
   "metadata": {},
   "source": [
    "####  Levene’s test\n",
    "\n",
    "We will test the null hypothesis\n",
    "\n",
    ">$H_0$: All the population variances are equal\n",
    "\n",
    "against the alternative hypothesis\n",
    "\n",
    ">$H_a$: At least one variance is different from the rest"
   ]
  },
  {
   "cell_type": "code",
   "execution_count": 40,
   "id": "790d5786",
   "metadata": {},
   "outputs": [
    {
     "name": "stdout",
     "output_type": "stream",
     "text": [
      "The p-value is 0.008950671168914445\n"
     ]
    }
   ],
   "source": [
    "#import the required function\n",
    "from scipy.stats import levene\n",
    "statistic, p_value = levene( df[df['landing_page'] == 'new'].time_spent_on_the_page,\n",
    "                            df[df['landing_page'] == 'old'].time_spent_on_the_page)\n",
    "# find the p-value\n",
    "print('The p-value is', p_value)"
   ]
  },
  {
   "cell_type": "markdown",
   "id": "d3c3c4af",
   "metadata": {},
   "source": [
    "Since the p-value is less than the significance level (0.0089 < 0.05) we reject the null hypothesis. We can say that the population variances are different, which means the population standard deviation are unequal.\n",
    "\n",
    "In this case a two independent sample t-test for equality of means for unequal and unknown standard deviations will be appropriate for this problem."
   ]
  },
  {
   "cell_type": "markdown",
   "id": "3f58c9a7",
   "metadata": {
    "id": "3f58c9a7"
   },
   "source": [
    "### Step 3: Decide the significance level"
   ]
  },
  {
   "cell_type": "markdown",
   "id": "92d7d7ee",
   "metadata": {
    "id": "92d7d7ee"
   },
   "source": [
    "As given in the problem statement, we select  𝛼  = 0.05."
   ]
  },
  {
   "cell_type": "markdown",
   "id": "5fed2eac",
   "metadata": {
    "id": "5fed2eac"
   },
   "source": [
    "### Step 4: Collect and prepare data"
   ]
  },
  {
   "cell_type": "code",
   "execution_count": 41,
   "id": "f5a59495",
   "metadata": {
    "id": "f5a59495"
   },
   "outputs": [],
   "source": [
    "# separate the time spent on the page wiht respect to the two landing pages\n",
    "time_spent_new_page = df[df['landing_page'] == 'new'].time_spent_on_the_page\n",
    "time_spent_old_page = df[df['landing_page'] == 'old'].time_spent_on_the_page"
   ]
  },
  {
   "cell_type": "markdown",
   "id": "f5c5258d",
   "metadata": {
    "id": "f5c5258d"
   },
   "source": [
    "### Step 5: Calculate the p-value"
   ]
  },
  {
   "cell_type": "code",
   "execution_count": 42,
   "id": "fac8594a",
   "metadata": {
    "id": "fac8594a"
   },
   "outputs": [
    {
     "name": "stdout",
     "output_type": "stream",
     "text": [
      "The p-value is  0.0001392381225166549\n"
     ]
    }
   ],
   "source": [
    "#import the required functions\n",
    "from scipy.stats import ttest_ind\n",
    "\n",
    "# find the p-value using ttest_ind\n",
    "test_stat, p_value = ttest_ind(time_spent_new_page, time_spent_old_page, equal_var = False, alternative = 'greater')\n",
    "\n",
    "# print the p-value\n",
    "print('The p-value is ', p_value)"
   ]
  },
  {
   "cell_type": "markdown",
   "id": "359b12f8",
   "metadata": {
    "id": "359b12f8"
   },
   "source": [
    "### Step 6: Compare the p-value with $\\alpha$"
   ]
  },
  {
   "cell_type": "code",
   "execution_count": 43,
   "id": "7be47289",
   "metadata": {
    "id": "7be47289"
   },
   "outputs": [
    {
     "name": "stdout",
     "output_type": "stream",
     "text": [
      "As the p-value 0.0001392381225166549 is less than the level of significance, we reject the null hypothesis.\n"
     ]
    }
   ],
   "source": [
    "# print the conclusion based on p-value\n",
    "if p_value < 0.05:\n",
    "    print(f'As the p-value {p_value} is less than the level of significance, we reject the null hypothesis.')\n",
    "else:\n",
    "    print(f'As the p-value {p_value} is greater than the level of significance, we fail to reject the null hypothesis.')"
   ]
  },
  {
   "cell_type": "markdown",
   "id": "d9affc84",
   "metadata": {
    "id": "d9affc84"
   },
   "source": [
    "### Step 7:  Draw inference"
   ]
  },
  {
   "cell_type": "markdown",
   "id": "6b16dd4b",
   "metadata": {
    "id": "6b16dd4b"
   },
   "source": [
    "Since the p-value is less than the 5% significance level, we reject the null hypothesis. Thus, we have enough statistical evidence to say that the mean time spent on the new page is greater than on the old page. The users spend more time on the new landing page."
   ]
  },
  {
   "cell_type": "markdown",
   "id": "1ad0823a",
   "metadata": {
    "id": "1ad0823a"
   },
   "source": [
    "**A similar approach can be followed to answer the other questions.**"
   ]
  },
  {
   "cell_type": "markdown",
   "id": "a164d4fa",
   "metadata": {},
   "source": [
    "## 3. Is the conversion rate (the proportion of users who visit the landing page and get converted) for the new page greater than the conversion rate for the old page?"
   ]
  },
  {
   "cell_type": "markdown",
   "id": "9d7453eb",
   "metadata": {},
   "source": [
    "### Perform Visual Analysis"
   ]
  },
  {
   "cell_type": "code",
   "execution_count": 44,
   "id": "3ef3a648",
   "metadata": {
    "scrolled": true
   },
   "outputs": [
    {
     "data": {
      "image/png": "[encoded data removed]",
      "text/plain": [
       "<Figure size 504x360 with 1 Axes>"
      ]
     },
     "metadata": {},
     "output_type": "display_data"
    }
   ],
   "source": [
    "# Let's check the relationship between the landing page and converted ploting a countplot\n",
    "# Let's use the user define function labeled_countplot(data, feature, hue, perc=False, n=None)\n",
    "\n",
    "labeled_countplot (df, 'landing_page', 'converted', perc=True)"
   ]
  },
  {
   "cell_type": "markdown",
   "id": "0dabbb01",
   "metadata": {},
   "source": [
    "The percentage of users converted in the new page is bigger than in the old page."
   ]
  },
  {
   "cell_type": "markdown",
   "id": "da4d5157",
   "metadata": {},
   "source": [
    "### Step 1: Define the null and alternate hypotheses"
   ]
  },
  {
   "cell_type": "markdown",
   "id": "d481fc3f",
   "metadata": {},
   "source": [
    "We want to see if the conversion rate for the new page is greater than the conversion rate for the old page.\n",
    "\n",
    "The conversion rate is the proportion of users who visit the landing page and get converted.\n",
    "\n",
    "> $H_0:$ The conversion rate for the new page is equal to the conversion rate for the old page.\n",
    "\n",
    "> $H_a:$ The conversion rate for the new page is greater than the conversion rate for the old page.\n",
    "\n",
    "Let $p_1,p_2$ be the proportion of users who visit the landing page and get converted, for the new and the old page respectively.\n",
    "\n",
    "We will test the null hypothesis\n",
    "\n",
    ">$H_0:p_1 =p_2$\n",
    "\n",
    "against the alternate hypothesis\n",
    "\n",
    ">$H_a:p_1 > p_2$"
   ]
  },
  {
   "cell_type": "markdown",
   "id": "f986014f",
   "metadata": {},
   "source": [
    "### Step 2: Select Appropriate test"
   ]
  },
  {
   "cell_type": "markdown",
   "id": "7ce1a3ae",
   "metadata": {},
   "source": [
    "The formulated hypotheses are concerned with proportions. \n",
    "\n",
    "This is a binomally distributed population: the user get converted or not.\n",
    "\n",
    "It's a random sampling from the population as it was informed in the problem statement.\n",
    "\n",
    "When both np and n(1-p) are greater than or equal to 10, the binomial distribution can be approximated by a normal distribution. n and p refer to the sample size and sample proportion respectively. Let's check:"
   ]
  },
  {
   "cell_type": "code",
   "execution_count": 45,
   "id": "46af1a6e",
   "metadata": {},
   "outputs": [
    {
     "name": "stdout",
     "output_type": "stream",
     "text": [
      "The sample can be aproximated by a normal distribution\n"
     ]
    }
   ],
   "source": [
    "# check if the sample can be aproximated by a normal distribution\n",
    "\n",
    "# sample size: number of users in the new and old page\n",
    "n_new_page = df.landing_page.value_counts().new\n",
    "n_old_page = df.landing_page.value_counts().old\n",
    "\n",
    "# convertion_count: number of users in the new and old page that get converted\n",
    "converted_new_page = df[df.landing_page == 'new'].converted.value_counts().yes\n",
    "converted_old_page = df[df.landing_page == 'old'].converted.value_counts().yes\n",
    "\n",
    "# calculating the np and n(1-p)\n",
    "n1p1 = n_new_page * (converted_new_page/ n_new_page)\n",
    "n1_1minusp1 = n_new_page * (1 - converted_new_page/ n_new_page)\n",
    "n2p2 = n_old_page * (converted_old_page/ n_old_page)\n",
    "n2_1minusp2 = n_old_page * (1 - converted_old_page/ n_old_page)\n",
    "\n",
    "# checking if np and n(1-p) are greater than or equal to 10\n",
    "if n1p1 >= 10 and n2p2 >= 10 and n1_1minusp1 >= 10 and n2_1minusp2 >= 10:\n",
    "    print ('The sample can be aproximated by a normal distribution')\n",
    "else:\n",
    "    print ('The sample can not be aproximated by a normal distribution')"
   ]
  },
  {
   "cell_type": "markdown",
   "id": "95836b67",
   "metadata": {},
   "source": [
    "The Z-test for two proportions can be used to analyse the hypotheses and draw a conclusion. "
   ]
  },
  {
   "cell_type": "markdown",
   "id": "93d310ce",
   "metadata": {},
   "source": [
    "### Step 3: Decide the significance level"
   ]
  },
  {
   "cell_type": "markdown",
   "id": "e8194cf4",
   "metadata": {},
   "source": [
    "As given in the problem statement, we select  𝛼  = 0.05."
   ]
  },
  {
   "cell_type": "markdown",
   "id": "540936ec",
   "metadata": {},
   "source": [
    "### Step 4: Collect and prepare data"
   ]
  },
  {
   "cell_type": "code",
   "execution_count": 46,
   "id": "b7f52898",
   "metadata": {
    "id": "b7f52898",
    "scrolled": true
   },
   "outputs": [
    {
     "name": "stdout",
     "output_type": "stream",
     "text": [
      "The sample size, or the number of users in the new and old page are 50 and 50 respectively\n",
      "The number of users in the new and old page that get converted are 33 and 21 respectively\n",
      "\n",
      "\n",
      "The conversion rate for the new and old page are 0.66 and 0.42 respectively\n"
     ]
    }
   ],
   "source": [
    "# set the convertion counts\n",
    "convertion_counts = np.array([converted_new_page, converted_old_page])\n",
    "\n",
    "# set the sample sizes\n",
    "nobs = np.array([n_new_page, n_old_page])\n",
    "\n",
    "print('The sample size, or the number of users in the new and old page are {0} and {1} respectively'\n",
    "      .format(n_new_page, n_old_page))\n",
    "print('The number of users in the new and old page that get converted are {0} and {1} respectively'\n",
    "      .format(converted_new_page, converted_old_page))\n",
    "print('\\n')\n",
    "print('The conversion rate for the new and old page are {0} and {1} respectively'\n",
    "      .format(round(converted_new_page/n_new_page, 2), round(converted_old_page/n_old_page,2)))\n",
    "\n"
   ]
  },
  {
   "cell_type": "markdown",
   "id": "3573a3ee",
   "metadata": {},
   "source": [
    "The conversion rate for the new page is bigger than the old page. Let's conduct the test to see if this is statistically significant."
   ]
  },
  {
   "cell_type": "markdown",
   "id": "1af65a19",
   "metadata": {},
   "source": [
    "### Step 5: Calculate the p-value"
   ]
  },
  {
   "cell_type": "code",
   "execution_count": 47,
   "id": "296b74b3",
   "metadata": {},
   "outputs": [
    {
     "name": "stdout",
     "output_type": "stream",
     "text": [
      "The p-value is  0.008026308204056278\n"
     ]
    }
   ],
   "source": [
    "# import the required function\n",
    "from statsmodels.stats.proportion import proportions_ztest\n",
    "\n",
    "# find the p-value using proportion_ztest\n",
    "test_stat, p_value = proportions_ztest(convertion_counts, nobs, alternative = 'larger')\n",
    "# print the p-value\n",
    "print('The p-value is ', p_value)"
   ]
  },
  {
   "cell_type": "markdown",
   "id": "02049087",
   "metadata": {},
   "source": [
    "### Step 6: Compare the p-value with $\\alpha$"
   ]
  },
  {
   "cell_type": "code",
   "execution_count": 48,
   "id": "bfde4cbc",
   "metadata": {},
   "outputs": [
    {
     "name": "stdout",
     "output_type": "stream",
     "text": [
      "As the p-value 0.008026308204056278 is less than the level of significance, we reject the null hypothesis.\n"
     ]
    }
   ],
   "source": [
    "# print the conclusion based on p-value\n",
    "if p_value < 0.05:\n",
    "    print(f'As the p-value {p_value} is less than the level of significance, we reject the null hypothesis.')\n",
    "else:\n",
    "    print(f'As the p-value {p_value} is greater than the level of significance, we fail to reject the null hypothesis.')"
   ]
  },
  {
   "cell_type": "markdown",
   "id": "048cbf04",
   "metadata": {},
   "source": [
    "### Step 7:  Draw inference"
   ]
  },
  {
   "cell_type": "markdown",
   "id": "bf61c0f6",
   "metadata": {},
   "source": [
    "Since the p-value is less than the 5% significance level, we reject the null hypothesis. Thus, we have enough statistical evidence to say that the conversion rate for the new page is greater than the conversion rate for the old page."
   ]
  },
  {
   "cell_type": "markdown",
   "id": "d49bfa2d",
   "metadata": {
    "id": "d49bfa2d"
   },
   "source": [
    "## 4. Is the conversion and preferred language are independent or related?"
   ]
  },
  {
   "cell_type": "markdown",
   "id": "59ef28c5",
   "metadata": {
    "id": "b0e63f17"
   },
   "source": [
    "### Perform Visual Analysis"
   ]
  },
  {
   "cell_type": "code",
   "execution_count": 49,
   "id": "bf3d4e41",
   "metadata": {
    "scrolled": true
   },
   "outputs": [
    {
     "data": {
      "image/png": "[encoded data removed]",
      "text/plain": [
       "<Figure size 504x360 with 1 Axes>"
      ]
     },
     "metadata": {},
     "output_type": "display_data"
    }
   ],
   "source": [
    "# For categorical variables we want to study the number of observations in each category\n",
    "# For this purpose we are going to plot a bar graph using the countplot function\n",
    "# We are going to use the user defined function labeled_countplot(data, feature, hue, perc=False, n=None):  \n",
    "labeled_countplot (df, 'converted', 'language_preferred')\n"
   ]
  },
  {
   "cell_type": "markdown",
   "id": "f5a5e8cb",
   "metadata": {},
   "source": [
    "The number of users for each language its almost the same in our dataset. But the number of users converted varies for each language.\n",
    "\n",
    "The English users were the ones that converted the most. The number of converted it's almost the same as the number of not converted for the Spanish users. The number of converted it's lower than the number of not converted for the French users. "
   ]
  },
  {
   "cell_type": "markdown",
   "id": "d92ba1b9",
   "metadata": {},
   "source": [
    "### Step 1: Define the null and alternate hypotheses"
   ]
  },
  {
   "cell_type": "markdown",
   "id": "155884ee",
   "metadata": {},
   "source": [
    "We will test the null hypothesis\n",
    "\n",
    ">$H_0:$ Conversion is independent of preferred language.\n",
    "\n",
    "against the alternate hypothesis\n",
    "\n",
    ">$H_a:$ Conversion is NOT independent of preferred language."
   ]
  },
  {
   "cell_type": "markdown",
   "id": "37dd6060",
   "metadata": {},
   "source": [
    "### Step 2: Select Appropriate test"
   ]
  },
  {
   "cell_type": "markdown",
   "id": "17271d48",
   "metadata": {},
   "source": [
    "This is a test of independency, concerning two categorical variables: converted (yes / no) and language preferred (French / English / Spanish).\n",
    "\n",
    "It's a random sampling from the population as it was informed in the problem statement.\n",
    "\n",
    "As we can verify in the plot, the number of sample observations in each level of the variable is at least 5.\n",
    "\n",
    "The appropriate test is the Chi-square test for independence."
   ]
  },
  {
   "cell_type": "markdown",
   "id": "8c3ece3d",
   "metadata": {},
   "source": [
    "### Step 3: Decide the significance level"
   ]
  },
  {
   "cell_type": "markdown",
   "id": "d922a28c",
   "metadata": {},
   "source": [
    "As given in the problem statement, we select  𝛼  = 0.05."
   ]
  },
  {
   "cell_type": "markdown",
   "id": "cecbedc7",
   "metadata": {},
   "source": [
    "### Step 4: Collect and prepare data"
   ]
  },
  {
   "cell_type": "code",
   "execution_count": 50,
   "id": "0594c005",
   "metadata": {},
   "outputs": [
    {
     "data": {
      "text/html": [
       "<div>\n",
       "<style scoped>\n",
       "    .dataframe tbody tr th:only-of-type {\n",
       "        vertical-align: middle;\n",
       "    }\n",
       "\n",
       "    .dataframe tbody tr th {\n",
       "        vertical-align: top;\n",
       "    }\n",
       "\n",
       "    .dataframe thead th {\n",
       "        text-align: right;\n",
       "    }\n",
       "</style>\n",
       "<table border=\"1\" class=\"dataframe\">\n",
       "  <thead>\n",
       "    <tr style=\"text-align: right;\">\n",
       "      <th>language_preferred</th>\n",
       "      <th>English</th>\n",
       "      <th>French</th>\n",
       "      <th>Spanish</th>\n",
       "    </tr>\n",
       "    <tr>\n",
       "      <th>converted</th>\n",
       "      <th></th>\n",
       "      <th></th>\n",
       "      <th></th>\n",
       "    </tr>\n",
       "  </thead>\n",
       "  <tbody>\n",
       "    <tr>\n",
       "      <th>no</th>\n",
       "      <td>11</td>\n",
       "      <td>19</td>\n",
       "      <td>16</td>\n",
       "    </tr>\n",
       "    <tr>\n",
       "      <th>yes</th>\n",
       "      <td>21</td>\n",
       "      <td>15</td>\n",
       "      <td>18</td>\n",
       "    </tr>\n",
       "  </tbody>\n",
       "</table>\n",
       "</div>"
      ],
      "text/plain": [
       "language_preferred  English  French  Spanish\n",
       "converted                                   \n",
       "no                       11      19       16\n",
       "yes                      21      15       18"
      ]
     },
     "execution_count": 50,
     "metadata": {},
     "output_type": "execute_result"
    }
   ],
   "source": [
    "# Lets's use the pd.crosstab function to create a contingency table with the discrete variables for our test\n",
    "data = pd.crosstab(df.converted, df.language_preferred)\n",
    "data"
   ]
  },
  {
   "cell_type": "code",
   "execution_count": 51,
   "id": "65ebf098",
   "metadata": {},
   "outputs": [
    {
     "data": {
      "text/html": [
       "<div>\n",
       "<style scoped>\n",
       "    .dataframe tbody tr th:only-of-type {\n",
       "        vertical-align: middle;\n",
       "    }\n",
       "\n",
       "    .dataframe tbody tr th {\n",
       "        vertical-align: top;\n",
       "    }\n",
       "\n",
       "    .dataframe thead th {\n",
       "        text-align: right;\n",
       "    }\n",
       "</style>\n",
       "<table border=\"1\" class=\"dataframe\">\n",
       "  <thead>\n",
       "    <tr style=\"text-align: right;\">\n",
       "      <th>language_preferred</th>\n",
       "      <th>English</th>\n",
       "      <th>French</th>\n",
       "      <th>Spanish</th>\n",
       "    </tr>\n",
       "  </thead>\n",
       "  <tbody>\n",
       "    <tr>\n",
       "      <th>0</th>\n",
       "      <td>11</td>\n",
       "      <td>19</td>\n",
       "      <td>16</td>\n",
       "    </tr>\n",
       "    <tr>\n",
       "      <th>1</th>\n",
       "      <td>21</td>\n",
       "      <td>15</td>\n",
       "      <td>18</td>\n",
       "    </tr>\n",
       "  </tbody>\n",
       "</table>\n",
       "</div>"
      ],
      "text/plain": [
       "language_preferred  English  French  Spanish\n",
       "0                        11      19       16\n",
       "1                        21      15       18"
      ]
     },
     "execution_count": 51,
     "metadata": {},
     "output_type": "execute_result"
    }
   ],
   "source": [
    "# Let's remove the lables by dropping the first column\n",
    "\n",
    "data1 = data.reset_index(drop=True)\n",
    "data1"
   ]
  },
  {
   "cell_type": "markdown",
   "id": "748b5d6f",
   "metadata": {},
   "source": [
    "### Step 5: Calculate the p-value"
   ]
  },
  {
   "cell_type": "code",
   "execution_count": 52,
   "id": "41ac9f37",
   "metadata": {},
   "outputs": [
    {
     "name": "stdout",
     "output_type": "stream",
     "text": [
      "The p-value is 0.21298887487543447\n"
     ]
    }
   ],
   "source": [
    "# import the required function\n",
    "from scipy.stats import chi2_contingency\n",
    "\n",
    "# find the p-value using chi2_contingency()\n",
    "chi, p_value, dof, expected = chi2_contingency(data1)\n",
    "\n",
    "# print the p-value\n",
    "print('The p-value is', p_value)"
   ]
  },
  {
   "cell_type": "markdown",
   "id": "73aa1697",
   "metadata": {},
   "source": [
    "### Step 6: Compare the p-value with $\\alpha$"
   ]
  },
  {
   "cell_type": "code",
   "execution_count": 53,
   "id": "c97a13d7",
   "metadata": {},
   "outputs": [
    {
     "name": "stdout",
     "output_type": "stream",
     "text": [
      "As the p-value 0.21298887487543447 is greater than the level of significance, we fail to reject the null hypothesis.\n"
     ]
    }
   ],
   "source": [
    "# print the conclusion based on p-value\n",
    "if p_value < 0.05:\n",
    "    print(f'As the p-value {p_value} is less than the level of significance, we reject the null hypothesis.')\n",
    "else:\n",
    "    print(f'As the p-value {p_value} is greater than the level of significance, we fail to reject the null hypothesis.')"
   ]
  },
  {
   "cell_type": "markdown",
   "id": "61b21fe7",
   "metadata": {},
   "source": [
    "### Step 7: Draw inference"
   ]
  },
  {
   "cell_type": "markdown",
   "id": "4f2e0fc6",
   "metadata": {},
   "source": [
    "As the p-value is greater than the significance level (0.213 > 0.05) we fail to reject the null hypothesis. Thus, we have enough statistical significance to conclude that the converted status is independent of the preferred language."
   ]
  },
  {
   "cell_type": "markdown",
   "id": "8d585a90",
   "metadata": {
    "id": "8d585a90"
   },
   "source": [
    "## 5. Is the time spent on the new page same for the different language users?"
   ]
  },
  {
   "cell_type": "markdown",
   "id": "1300e2d7",
   "metadata": {
    "id": "b422f395"
   },
   "source": [
    "### Perform Visual Analysis"
   ]
  },
  {
   "cell_type": "code",
   "execution_count": 54,
   "id": "65f298cb",
   "metadata": {
    "scrolled": true
   },
   "outputs": [
    {
     "data": {
      "image/png": "[encoded data removed]",
      "text/plain": [
       "<Figure size 504x360 with 1 Axes>"
      ]
     },
     "metadata": {},
     "output_type": "display_data"
    }
   ],
   "source": [
    "# creating a new dataset with only the new page data\n",
    "df_new=df[df.landing_page == 'new']\n",
    "\n",
    "# Let's plot a boxplot to check the time spent on the new page for each language\n",
    "plt.figure(figsize=(7, 5))\n",
    "\n",
    "sns.boxplot(data=df_new, y='time_spent_on_the_page', x='language_preferred', showmeans=True )\n",
    "\n",
    "plt.show()"
   ]
  },
  {
   "cell_type": "markdown",
   "id": "24ced5b2",
   "metadata": {},
   "source": [
    "The mean time spent on the page is greater for the English language. \n",
    "\n",
    "The average time spent in the new page is not so differente for all the languages, between 6 and 7 minutes."
   ]
  },
  {
   "cell_type": "markdown",
   "id": "b201a5e5",
   "metadata": {},
   "source": [
    "### Step 1: Define null and alternate hypotheses"
   ]
  },
  {
   "cell_type": "markdown",
   "id": "b472dd52",
   "metadata": {},
   "source": [
    "Let $\\mu_1, \\mu_2, \\mu_3$ be the means of time spent on the new page for English, French and Spanish respectively.\n",
    "\n",
    "We will test the null hypothesis\n",
    "\n",
    ">$H_0: \\mu_1 = \\mu_2 = \\mu_3$\n",
    "\n",
    "against the alternative hypothesis\n",
    "\n",
    ">$H_a: $ At least one mean of time spent on the new page is different from the rest.\n"
   ]
  },
  {
   "cell_type": "markdown",
   "id": "dc19cc7c",
   "metadata": {},
   "source": [
    "### Step 2: Select appropriate test"
   ]
  },
  {
   "cell_type": "markdown",
   "id": "998244ba",
   "metadata": {},
   "source": [
    "We are comparing the means of three independent populations. \n",
    "\n",
    "One-way ANOVA is the appropriate test, but we need to check the assumptions that the populations are normally distributed and the population variances are equal.\n",
    "\n",
    "For testing of normality, Shapiro-Wilk's test is applied to the response variable.\n",
    "\n",
    "For equality of variance, Levene test is applied to the response variable."
   ]
  },
  {
   "cell_type": "markdown",
   "id": "e3e82603",
   "metadata": {},
   "source": [
    "#### Shapiro-Wilk’s test\n",
    "\n",
    "We will test the null hypothesis\n",
    "\n",
    ">$H_0:$ Time spent on the new page follows a normal distribution\n",
    "\n",
    "against the alternative hypothesis\n",
    "\n",
    ">$H_a:$ Time spent on the new page does not follow a normal distribution"
   ]
  },
  {
   "cell_type": "code",
   "execution_count": 55,
   "id": "cd28fc7d",
   "metadata": {},
   "outputs": [
    {
     "name": "stdout",
     "output_type": "stream",
     "text": [
      "The p-value is 0.8040016293525696\n"
     ]
    }
   ],
   "source": [
    "# Assumption 1: Normality\n",
    "# import the required function\n",
    "from scipy.stats import shapiro\n",
    "\n",
    "# find the p-value using the dataset with only the new page data\n",
    "w, p_value = shapiro(df_new['time_spent_on_the_page']) \n",
    "print('The p-value is', p_value)"
   ]
  },
  {
   "cell_type": "markdown",
   "id": "52ce25cb",
   "metadata": {},
   "source": [
    "As the p-value is much larger than the significance level (0.804 > 0.05), we fail to reject the null hypothesis. The time spent on the new page follows the normal distribution."
   ]
  },
  {
   "cell_type": "markdown",
   "id": "c194a4c6",
   "metadata": {},
   "source": [
    "#### Levene’s test\n",
    "\n",
    "We will test the null hypothesis\n",
    "\n",
    ">$H_0$: All the population variances are equal\n",
    "\n",
    "against the alternative hypothesis\n",
    "\n",
    ">$H_a$: At least one variance is different from the rest"
   ]
  },
  {
   "cell_type": "code",
   "execution_count": 56,
   "id": "2babdf5d",
   "metadata": {},
   "outputs": [
    {
     "name": "stdout",
     "output_type": "stream",
     "text": [
      "The p-value is 0.46711357711340173\n"
     ]
    }
   ],
   "source": [
    "#Assumption 2: Homogeneity of Variance\n",
    "# import the required function\n",
    "from scipy.stats import levene\n",
    "\n",
    "# find the p-value using the dataset with only the new page data\n",
    "statistic, p_value = levene(df_new[df_new.language_preferred == 'English'].time_spent_on_the_page,\n",
    "                           df_new[df_new.language_preferred == 'French'].time_spent_on_the_page,\n",
    "                           df_new[df_new.language_preferred == 'Spanish'].time_spent_on_the_page)\n",
    "print('The p-value is', p_value)"
   ]
  },
  {
   "cell_type": "markdown",
   "id": "0ea57e1e",
   "metadata": {},
   "source": [
    "Since the p-value is larger than the significance level (0.467 > 0.05), we fail to reject the null hypothesis. All the population variances are equal."
   ]
  },
  {
   "cell_type": "markdown",
   "id": "c6963f67",
   "metadata": {},
   "source": [
    "Since the assumptions of normality and equality of variance are met, we can now use the one-way ANOVA test."
   ]
  },
  {
   "cell_type": "markdown",
   "id": "fabe90a3",
   "metadata": {},
   "source": [
    "### Step 3: Decide the significance level  "
   ]
  },
  {
   "cell_type": "markdown",
   "id": "c1873109",
   "metadata": {},
   "source": [
    "As given in the problem statement, we select  𝛼  = 0.05."
   ]
  },
  {
   "cell_type": "markdown",
   "id": "7c7e0b4d",
   "metadata": {},
   "source": [
    "### Step 4: Collect and prepare data"
   ]
  },
  {
   "cell_type": "code",
   "execution_count": 57,
   "id": "910dfa3d",
   "metadata": {},
   "outputs": [],
   "source": [
    "# separate the time spent on the new page with respect to the three languages\n",
    "time_English = df_new[df_new.language_preferred == 'English'].time_spent_on_the_page\n",
    "time_French  =  df_new[df_new.language_preferred == 'French'].time_spent_on_the_page\n",
    "time_Spanish = df_new[df_new.language_preferred == 'Spanish'].time_spent_on_the_page\n"
   ]
  },
  {
   "cell_type": "markdown",
   "id": "86fe47ba",
   "metadata": {},
   "source": [
    "### Step 5: Calculate the p-value"
   ]
  },
  {
   "cell_type": "code",
   "execution_count": 58,
   "id": "cffc251d",
   "metadata": {},
   "outputs": [
    {
     "name": "stdout",
     "output_type": "stream",
     "text": [
      "The p-value is  0.43204138694325955\n"
     ]
    }
   ],
   "source": [
    "# import the required function\n",
    "from scipy.stats import f_oneway\n",
    "\n",
    "# find the p-value using the f_oneway funcion\n",
    "test_stat, p_value = f_oneway(time_English, time_French, time_Spanish)\n",
    "print('The p-value is ', p_value)"
   ]
  },
  {
   "cell_type": "markdown",
   "id": "caf46b6c",
   "metadata": {},
   "source": [
    "### Step 6: Compare the p-value with $\\alpha$"
   ]
  },
  {
   "cell_type": "code",
   "execution_count": 59,
   "id": "45db757a",
   "metadata": {},
   "outputs": [
    {
     "name": "stdout",
     "output_type": "stream",
     "text": [
      "As the p-value 0.43204138694325955 is greater than the level of significance, we fail to reject the null hypothesis.\n"
     ]
    }
   ],
   "source": [
    "# print the conclusion based on p-value\n",
    "if p_value < 0.05:\n",
    "    print(f'As the p-value {p_value} is less than the level of significance, we reject the null hypothesis.')\n",
    "else:\n",
    "    print(f'As the p-value {p_value} is greater than the level of significance, we fail to reject the null hypothesis.')"
   ]
  },
  {
   "cell_type": "markdown",
   "id": "db35248c",
   "metadata": {},
   "source": [
    "### Step 7: Draw inference"
   ]
  },
  {
   "cell_type": "markdown",
   "id": "f6126cdd",
   "metadata": {},
   "source": [
    "Since the p-value is greater than the significance level (0.432 > 0.05), we fail to reject the null hypothesis. Hence, we have enough statistical evidence to say that the mean time spent on the new page is equal for English, French and Spanish language."
   ]
  },
  {
   "cell_type": "markdown",
   "id": "3acbc947",
   "metadata": {
    "id": "3acbc947"
   },
   "source": [
    "## Conclusion and Business Recommendations"
   ]
  },
  {
   "cell_type": "markdown",
   "id": "21fb1063",
   "metadata": {
    "id": "21fb1063"
   },
   "source": [
    "## Conclusions"
   ]
  },
  {
   "cell_type": "markdown",
   "id": "4c3c759c",
   "metadata": {},
   "source": [
    "\n",
    "* A large quantity of users spends 4 to 7 minutes in the news page (old and new page together). \n",
    "* The users spend more time in the new page than in the old page. Around 6 minutes and 4 minutes in average respectively.\n",
    "* The conversion rate for the new page is greater than the conversion rate for the old page. 66% of the users in the new page are converted to a subscriber against 42% of the users in the old page.\n",
    "* Considering the new and old page together, the converted status is independent of the preferred language.\n",
    "\n",
    "* Comparing the new and old page:\n",
    ">* The percentage of English users converted is similar for the new and the old page, 20% and 22% respectively. It seems the English users like the new page as much as the old page.\n",
    ">* The percentage of Spanish users converted is bigger in the new page than the old page, 22% and 14% respectively.\n",
    ">* The percentage of French users converted is much bigger in the new page than the old page, 24% and 6% respectively.\n",
    "\n",
    "* The mean time spent on the new page is equal for English, French and Spanish languages.\n"
   ]
  },
  {
   "cell_type": "markdown",
   "id": "2a85e79b",
   "metadata": {},
   "source": [
    "## Business Recommendations"
   ]
  },
  {
   "cell_type": "markdown",
   "id": "ebea69b3",
   "metadata": {},
   "source": [
    "* The news company should adopt the new landing page as the news page, since the new landing page is more effective to gather new subscribers.\n",
    "* The desing team of the news company should study why the changes in the new page didn't increase the conversion rate for the English users.\n",
    "* The desing team of the news company should study what works in the new page and what din't work in the old page for the Spanish and French users, to keep in mind for future changes in the news page."
   ]
  }
 ],
 "metadata": {
  "colab": {
   "collapsed_sections": [],
   "name": "ENews_Express_Learner_Notebook[Full Code Version].ipynb",
   "provenance": []
  },
  "kernelspec": {
   "display_name": "Python 3 (ipykernel)",
   "language": "python",
   "name": "python3"
  },
  "language_info": {
   "codemirror_mode": {
    "name": "ipython",
    "version": 3
   },
   "file_extension": ".py",
   "mimetype": "text/x-python",
   "name": "python",
   "nbconvert_exporter": "python",
   "pygments_lexer": "ipython3",
   "version": "3.8.8"
  }
 },
 "nbformat": 4,
 "nbformat_minor": 5
}
